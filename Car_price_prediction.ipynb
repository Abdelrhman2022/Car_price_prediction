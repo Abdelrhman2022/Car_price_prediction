{
  "nbformat": 4,
  "nbformat_minor": 0,
  "metadata": {
    "colab": {
      "name": "Car_price_prediction.ipynb",
      "provenance": []
    },
    "kernelspec": {
      "name": "python3",
      "display_name": "Python 3"
    },
    "language_info": {
      "name": "python"
    },
    "accelerator": "GPU"
  },
  "cells": [
    {
      "cell_type": "markdown",
      "metadata": {
        "id": "EVadO-bp7KqX"
      },
      "source": [
        "# **Car Price Prediction**"
      ]
    },
    {
      "cell_type": "markdown",
      "metadata": {
        "id": "Wedyx4m77QVo"
      },
      "source": [
        "\n",
        "## Importing Libraries\n"
      ]
    },
    {
      "cell_type": "code",
      "metadata": {
        "id": "k0I7fCjf7IIK"
      },
      "source": [
        "import numpy as np\n",
        "import pandas as pd"
      ],
      "execution_count": null,
      "outputs": []
    },
    {
      "cell_type": "markdown",
      "metadata": {
        "id": "Idm1UtvR7b9j"
      },
      "source": [
        "## Importing Dataset"
      ]
    },
    {
      "cell_type": "code",
      "metadata": {
        "colab": {
          "base_uri": "https://localhost:8080/",
          "height": 206
        },
        "id": "G9mG4IlZ7ZtF",
        "outputId": "aa640677-c202-4079-d438-deadc7532877"
      },
      "source": [
        "dataset = pd.read_csv('car_data.csv')\n",
        "dataset.head()"
      ],
      "execution_count": null,
      "outputs": [
        {
          "output_type": "execute_result",
          "data": {
            "text/html": [
              "<div>\n",
              "<style scoped>\n",
              "    .dataframe tbody tr th:only-of-type {\n",
              "        vertical-align: middle;\n",
              "    }\n",
              "\n",
              "    .dataframe tbody tr th {\n",
              "        vertical-align: top;\n",
              "    }\n",
              "\n",
              "    .dataframe thead th {\n",
              "        text-align: right;\n",
              "    }\n",
              "</style>\n",
              "<table border=\"1\" class=\"dataframe\">\n",
              "  <thead>\n",
              "    <tr style=\"text-align: right;\">\n",
              "      <th></th>\n",
              "      <th>name</th>\n",
              "      <th>year</th>\n",
              "      <th>selling_price</th>\n",
              "      <th>km_driven</th>\n",
              "      <th>fuel</th>\n",
              "      <th>seller_type</th>\n",
              "      <th>transmission</th>\n",
              "      <th>owner</th>\n",
              "    </tr>\n",
              "  </thead>\n",
              "  <tbody>\n",
              "    <tr>\n",
              "      <th>0</th>\n",
              "      <td>Maruti 800 AC</td>\n",
              "      <td>2007</td>\n",
              "      <td>60000</td>\n",
              "      <td>70000</td>\n",
              "      <td>Petrol</td>\n",
              "      <td>Individual</td>\n",
              "      <td>Manual</td>\n",
              "      <td>First Owner</td>\n",
              "    </tr>\n",
              "    <tr>\n",
              "      <th>1</th>\n",
              "      <td>Maruti Wagon R LXI Minor</td>\n",
              "      <td>2007</td>\n",
              "      <td>135000</td>\n",
              "      <td>50000</td>\n",
              "      <td>Petrol</td>\n",
              "      <td>Individual</td>\n",
              "      <td>Manual</td>\n",
              "      <td>First Owner</td>\n",
              "    </tr>\n",
              "    <tr>\n",
              "      <th>2</th>\n",
              "      <td>Hyundai Verna 1.6 SX</td>\n",
              "      <td>2012</td>\n",
              "      <td>600000</td>\n",
              "      <td>100000</td>\n",
              "      <td>Diesel</td>\n",
              "      <td>Individual</td>\n",
              "      <td>Manual</td>\n",
              "      <td>First Owner</td>\n",
              "    </tr>\n",
              "    <tr>\n",
              "      <th>3</th>\n",
              "      <td>Datsun RediGO T Option</td>\n",
              "      <td>2017</td>\n",
              "      <td>250000</td>\n",
              "      <td>46000</td>\n",
              "      <td>Petrol</td>\n",
              "      <td>Individual</td>\n",
              "      <td>Manual</td>\n",
              "      <td>First Owner</td>\n",
              "    </tr>\n",
              "    <tr>\n",
              "      <th>4</th>\n",
              "      <td>Honda Amaze VX i-DTEC</td>\n",
              "      <td>2014</td>\n",
              "      <td>450000</td>\n",
              "      <td>141000</td>\n",
              "      <td>Diesel</td>\n",
              "      <td>Individual</td>\n",
              "      <td>Manual</td>\n",
              "      <td>Second Owner</td>\n",
              "    </tr>\n",
              "  </tbody>\n",
              "</table>\n",
              "</div>"
            ],
            "text/plain": [
              "                       name  year  ...  transmission         owner\n",
              "0             Maruti 800 AC  2007  ...        Manual   First Owner\n",
              "1  Maruti Wagon R LXI Minor  2007  ...        Manual   First Owner\n",
              "2      Hyundai Verna 1.6 SX  2012  ...        Manual   First Owner\n",
              "3    Datsun RediGO T Option  2017  ...        Manual   First Owner\n",
              "4     Honda Amaze VX i-DTEC  2014  ...        Manual  Second Owner\n",
              "\n",
              "[5 rows x 8 columns]"
            ]
          },
          "metadata": {},
          "execution_count": 2
        }
      ]
    },
    {
      "cell_type": "code",
      "metadata": {
        "colab": {
          "base_uri": "https://localhost:8080/"
        },
        "id": "7fsBeNiX8IE7",
        "outputId": "2d664504-24bc-4861-f4cc-0be6df9c029c"
      },
      "source": [
        "dataset[\"selling_price\"].isnull().sum()"
      ],
      "execution_count": null,
      "outputs": [
        {
          "output_type": "execute_result",
          "data": {
            "text/plain": [
              "0"
            ]
          },
          "metadata": {},
          "execution_count": 6
        }
      ]
    },
    {
      "cell_type": "code",
      "metadata": {
        "colab": {
          "base_uri": "https://localhost:8080/"
        },
        "id": "BdWbd3mX8OHv",
        "outputId": "3d14201c-e838-4d77-9dcf-738db9d59e62"
      },
      "source": [
        "dataset[\"fuel\"].value_counts()"
      ],
      "execution_count": null,
      "outputs": [
        {
          "output_type": "execute_result",
          "data": {
            "text/plain": [
              "Diesel      2153\n",
              "Petrol      2123\n",
              "CNG           40\n",
              "LPG           23\n",
              "Electric       1\n",
              "Name: fuel, dtype: int64"
            ]
          },
          "metadata": {},
          "execution_count": 9
        }
      ]
    },
    {
      "cell_type": "code",
      "metadata": {
        "colab": {
          "base_uri": "https://localhost:8080/"
        },
        "id": "lk7VREsA8vot",
        "outputId": "7b61a54e-369c-49c3-b704-601955e381b3"
      },
      "source": [
        "dataset[\"seller_type\"].value_counts()"
      ],
      "execution_count": null,
      "outputs": [
        {
          "output_type": "execute_result",
          "data": {
            "text/plain": [
              "Individual          3244\n",
              "Dealer               994\n",
              "Trustmark Dealer     102\n",
              "Name: seller_type, dtype: int64"
            ]
          },
          "metadata": {},
          "execution_count": 10
        }
      ]
    },
    {
      "cell_type": "markdown",
      "metadata": {
        "id": "WHzSWaATPDZR"
      },
      "source": [
        "## Encoding the Data"
      ]
    },
    {
      "cell_type": "code",
      "metadata": {
        "id": "NEqdebHj8QGS"
      },
      "source": [
        "X = dataset.iloc[:, [1,3,4,6]].values\n",
        "y = dataset.iloc[:, 2].values"
      ],
      "execution_count": null,
      "outputs": []
    },
    {
      "cell_type": "code",
      "metadata": {
        "colab": {
          "base_uri": "https://localhost:8080/"
        },
        "id": "sPH6PtXk8iDu",
        "outputId": "5b57c368-2664-4c4f-997b-2ee484633864"
      },
      "source": [
        "X"
      ],
      "execution_count": null,
      "outputs": [
        {
          "output_type": "execute_result",
          "data": {
            "text/plain": [
              "array([[2007, 70000, 'Petrol', 'Manual'],\n",
              "       [2007, 50000, 'Petrol', 'Manual'],\n",
              "       [2012, 100000, 'Diesel', 'Manual'],\n",
              "       ...,\n",
              "       [2009, 83000, 'Petrol', 'Manual'],\n",
              "       [2016, 90000, 'Diesel', 'Manual'],\n",
              "       [2016, 40000, 'Petrol', 'Manual']], dtype=object)"
            ]
          },
          "metadata": {},
          "execution_count": 15
        }
      ]
    },
    {
      "cell_type": "code",
      "metadata": {
        "id": "-7mGqoD68UKe"
      },
      "source": [
        "from sklearn.preprocessing import LabelEncoder\n",
        "lb = LabelEncoder()\n",
        "X[:,2]=lb.fit_transform(X[:,2])\n",
        "lb1 = LabelEncoder()\n",
        "X[:,3]=lb1.fit_transform(X[:,3])"
      ],
      "execution_count": null,
      "outputs": []
    },
    {
      "cell_type": "code",
      "metadata": {
        "colab": {
          "base_uri": "https://localhost:8080/"
        },
        "id": "2YdLelg48WS-",
        "outputId": "6b58b74d-c852-40fb-dae8-11b546cfb861"
      },
      "source": [
        "X\n"
      ],
      "execution_count": null,
      "outputs": [
        {
          "output_type": "execute_result",
          "data": {
            "text/plain": [
              "array([[2007, 70000, 4, 1],\n",
              "       [2007, 50000, 4, 1],\n",
              "       [2012, 100000, 1, 1],\n",
              "       ...,\n",
              "       [2009, 83000, 4, 1],\n",
              "       [2016, 90000, 1, 1],\n",
              "       [2016, 40000, 4, 1]], dtype=object)"
            ]
          },
          "metadata": {},
          "execution_count": 18
        }
      ]
    },
    {
      "cell_type": "markdown",
      "metadata": {
        "id": "DoyAuxw3PPVw"
      },
      "source": [
        "## Splitting the Data into Train and Test Set"
      ]
    },
    {
      "cell_type": "code",
      "metadata": {
        "colab": {
          "base_uri": "https://localhost:8080/"
        },
        "id": "CPrnc1B08YPn",
        "outputId": "df6860b2-08da-4dd2-b709-e4acf3e6975b"
      },
      "source": [
        "from sklearn.model_selection import train_test_split\n",
        "X_train, X_test, y_train, y_test = train_test_split(X, y, test_size = 0.05, random_state = 0)\n",
        "\n",
        "print(X_train[:,:])"
      ],
      "execution_count": null,
      "outputs": [
        {
          "output_type": "stream",
          "name": "stdout",
          "text": [
            "[[2016 36000 1 1]\n",
            " [2014 70000 4 1]\n",
            " [2016 23000 4 1]\n",
            " ...\n",
            " [2016 22000 4 1]\n",
            " [2015 70000 1 1]\n",
            " [2013 62000 4 1]]\n"
          ]
        }
      ]
    },
    {
      "cell_type": "markdown",
      "metadata": {
        "id": "zFy1tG6lPhjQ"
      },
      "source": [
        "## Training the model"
      ]
    },
    {
      "cell_type": "code",
      "metadata": {
        "colab": {
          "base_uri": "https://localhost:8080/"
        },
        "id": "hEDPm1e38_ah",
        "outputId": "bdaae343-6130-4969-cb57-c0b09ac0bec7"
      },
      "source": [
        "from sklearn.ensemble import RandomForestRegressor\n",
        "regressor = RandomForestRegressor(n_estimators=300,random_state=0)\n",
        "regressor.fit(X_train,y_train)"
      ],
      "execution_count": null,
      "outputs": [
        {
          "output_type": "execute_result",
          "data": {
            "text/plain": [
              "RandomForestRegressor(n_estimators=300, random_state=0)"
            ]
          },
          "metadata": {},
          "execution_count": 23
        }
      ]
    },
    {
      "cell_type": "code",
      "metadata": {
        "colab": {
          "base_uri": "https://localhost:8080/"
        },
        "id": "Yl2WR3vD9B39",
        "outputId": "bb90db93-770b-4486-dd15-bd3815dabb0d"
      },
      "source": [
        "accuracy = regressor.score(X_test,y_test)\n",
        "print(accuracy*100,'%')"
      ],
      "execution_count": null,
      "outputs": [
        {
          "output_type": "stream",
          "name": "stdout",
          "text": [
            "85.74236935963135 %\n"
          ]
        }
      ]
    },
    {
      "cell_type": "markdown",
      "metadata": {
        "id": "vgsY-vybPnlh"
      },
      "source": [
        "## Performing a Test on given Input"
      ]
    },
    {
      "cell_type": "code",
      "metadata": {
        "id": "P_1YPOEB9Eck"
      },
      "source": [
        "new_data=[2017,7000,\"Petrol\",\"Manual\"]\n",
        "new_data[2]=lb.transform([new_data[2]])[0]\n",
        "new_data[3]=lb1.transform([new_data[3]])[0]\n"
      ],
      "execution_count": null,
      "outputs": []
    },
    {
      "cell_type": "code",
      "metadata": {
        "colab": {
          "base_uri": "https://localhost:8080/"
        },
        "id": "3yu9Af7v9G2D",
        "outputId": "17cf4731-7b7a-4e3b-815b-b8e498eab933"
      },
      "source": [
        "print(new_data)\n",
        "regressor.predict([new_data])"
      ],
      "execution_count": null,
      "outputs": [
        {
          "output_type": "stream",
          "name": "stdout",
          "text": [
            "[2017, 7000, 4, 1]\n"
          ]
        },
        {
          "output_type": "execute_result",
          "data": {
            "text/plain": [
              "array([624428.57142857])"
            ]
          },
          "metadata": {},
          "execution_count": 26
        }
      ]
    },
    {
      "cell_type": "markdown",
      "metadata": {
        "id": "lXjS9m0OPvJA"
      },
      "source": [
        "## Saving the Model and Encoder using Pickle"
      ]
    },
    {
      "cell_type": "code",
      "metadata": {
        "id": "vJvuV77r9IbQ"
      },
      "source": [
        "import pickle\n",
        "pickle.dump(regressor,open('regressor.pkl','wb'))\n",
        "pickle.dump(lb,open('lb','wb'))\n",
        "pickle.dump(lb1,open('lb1','wb'))"
      ],
      "execution_count": null,
      "outputs": []
    },
    {
      "cell_type": "code",
      "metadata": {
        "id": "7ioJGdHB-YjL"
      },
      "source": [
        ""
      ],
      "execution_count": null,
      "outputs": []
    }
  ]
}